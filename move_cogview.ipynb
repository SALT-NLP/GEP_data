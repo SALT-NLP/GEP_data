{
 "cells": [
  {
   "cell_type": "code",
   "execution_count": 2,
   "metadata": {},
   "outputs": [],
   "source": [
    "from shutil import copyfile\n",
    "\n",
    "for idx in range(0, 256):\n",
    "    for afile in ['0.jpg', '1.jpg', '2.jpg', '3.jpg', '4.jpg']:\n",
    "        copyfile(f'/mnt/sdb1/coco/ImagesRepo/Cogview_none/{idx}/{afile}', f'/mnt/sdb1/coco/ImagesRepo/male_cogview2_gen/{idx}_{afile}')\n"
   ]
  },
  {
   "cell_type": "code",
   "execution_count": 3,
   "metadata": {},
   "outputs": [],
   "source": [
    "for idx in range(256, 512):\n",
    "    for afile in ['0.jpg', '1.jpg', '2.jpg', '3.jpg', '4.jpg']:\n",
    "        copyfile(f'/mnt/sdb1/coco/ImagesRepo/Cogview_none/{idx}/{afile}', f'/mnt/sdb1/coco/ImagesRepo/female_cogview2_gen/{idx - 256}_{afile}')"
   ]
  },
  {
   "cell_type": "code",
   "execution_count": null,
   "metadata": {},
   "outputs": [],
   "source": []
  }
 ],
 "metadata": {
  "interpreter": {
   "hash": "0d69b53e726fcd14c9e7bc77313aa16ff5d329e32d9b4da80fabec91763c91ae"
  },
  "kernelspec": {
   "display_name": "Python 3.8.13 ('rationale')",
   "language": "python",
   "name": "python3"
  },
  "language_info": {
   "codemirror_mode": {
    "name": "ipython",
    "version": 3
   },
   "file_extension": ".py",
   "mimetype": "text/x-python",
   "name": "python",
   "nbconvert_exporter": "python",
   "pygments_lexer": "ipython3",
   "version": "3.8.13"
  },
  "orig_nbformat": 4
 },
 "nbformat": 4,
 "nbformat_minor": 2
}
